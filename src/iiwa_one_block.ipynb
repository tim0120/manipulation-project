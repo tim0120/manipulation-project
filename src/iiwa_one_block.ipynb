{
 "cells": [
  {
   "cell_type": "code",
   "execution_count": 2,
   "metadata": {},
   "outputs": [],
   "source": [
    "import numpy as np\n",
    "# from pydrake import (\n",
    "#     ConstantVectorSource,\n",
    "#     DiagramBuilder,\n",
    "#     MeshcatVisualizer,\n",
    "#     MeshcatVisualizerParams,\n",
    "#     MultibodyPlant,\n",
    "#     Parser,\n",
    "#     PiecewisePolynomial,\n",
    "#     PiecewiseQuaternionSlerp,\n",
    "#     RigidTransform,\n",
    "#     RollPitchYaw,\n",
    "#     RotationMatrix,\n",
    "#     Simulator,\n",
    "#     Solve,\n",
    "#     StartMeshcat,\n",
    "#     TrajectorySource,\n",
    "# )\n",
    "import pydrake"
   ]
  },
  {
   "cell_type": "code",
   "execution_count": 3,
   "metadata": {},
   "outputs": [
    {
     "ename": "AttributeError",
     "evalue": "module 'pydrake' has no attribute 'StartMeshcat'",
     "output_type": "error",
     "traceback": [
      "\u001b[0;31m---------------------------------------------------------------------------\u001b[0m",
      "\u001b[0;31mAttributeError\u001b[0m                            Traceback (most recent call last)",
      "\u001b[1;32m/Users/timkostolansky/Dropbox (MIT)/MIT Semesters/Fall23/6.4212/project/src/iiwa_one_block.ipynb Cell 2\u001b[0m line \u001b[0;36m1\n\u001b[0;32m----> <a href='vscode-notebook-cell:/Users/timkostolansky/Dropbox%20%28MIT%29/MIT%20Semesters/Fall23/6.4212/project/src/iiwa_one_block.ipynb#W1sZmlsZQ%3D%3D?line=0'>1</a>\u001b[0m meshcat \u001b[39m=\u001b[39m pydrake\u001b[39m.\u001b[39;49mStartMeshcat()\n",
      "\u001b[0;31mAttributeError\u001b[0m: module 'pydrake' has no attribute 'StartMeshcat'"
     ]
    }
   ],
   "source": [
    "meshcat = pydrake.StartMeshcat()"
   ]
  },
  {
   "cell_type": "code",
   "execution_count": null,
   "metadata": {},
   "outputs": [],
   "source": []
  }
 ],
 "metadata": {
  "kernelspec": {
   "display_name": "env",
   "language": "python",
   "name": "python3"
  },
  "language_info": {
   "codemirror_mode": {
    "name": "ipython",
    "version": 3
   },
   "file_extension": ".py",
   "mimetype": "text/x-python",
   "name": "python",
   "nbconvert_exporter": "python",
   "pygments_lexer": "ipython3",
   "version": "3.9.13"
  }
 },
 "nbformat": 4,
 "nbformat_minor": 2
}
