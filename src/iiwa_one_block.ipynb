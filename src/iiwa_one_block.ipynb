{
 "cells": [
  {
   "cell_type": "code",
   "execution_count": 7,
   "metadata": {},
   "outputs": [],
   "source": [
    "import numpy as np\n",
    "from pydrake.all import (\n",
    "    ConstantVectorSource,\n",
    "    DiagramBuilder,\n",
    "    MeshcatVisualizer,\n",
    "    MeshcatVisualizerParams,\n",
    "    MultibodyPlant,\n",
    "    Parser,\n",
    "    PiecewisePolynomial,\n",
    "    PiecewiseQuaternionSlerp,\n",
    "    RigidTransform,\n",
    "    RollPitchYaw,\n",
    "    RotationMatrix,\n",
    "    Simulator,\n",
    "    Solve,\n",
    "    StartMeshcat,\n",
    "    TrajectorySource,\n",
    ")"
   ]
  },
  {
   "cell_type": "code",
   "execution_count": 5,
   "metadata": {},
   "outputs": [
    {
     "name": "stderr",
     "output_type": "stream",
     "text": [
      "INFO:drake:Meshcat listening for connections at http://localhost:7002\n"
     ]
    }
   ],
   "source": [
    "meshcat = StartMeshcat()"
   ]
  },
  {
   "cell_type": "code",
   "execution_count": null,
   "metadata": {},
   "outputs": [],
   "source": [
    "builder = DiagramBuilder()\n",
    "\n",
    "plant, scene_graph = AddMultibodyPlantSceneGraph(builder, time_step=0)\n",
    "parser = Parser(plant)\n",
    "ConfigureParser(parser)\n",
    "parser.AddModelsFromUrl(\"package://manipulation/iiwa_and_wsg.dmd.yaml\")\n",
    "plant.Finalize()"
   ]
  },
  {
   "cell_type": "code",
   "execution_count": 8,
   "metadata": {},
   "outputs": [],
   "source": [
    "import numpy as np\n",
    "from IPython.display import clear_output, display\n",
    "from pydrake.all import (\n",
    "    AbstractValue,\n",
    "    AddMultibodyPlantSceneGraph,\n",
    "    DiagramBuilder,\n",
    "    JointSliders,\n",
    "    LeafSystem,\n",
    "    MeshcatVisualizer,\n",
    "    Parser,\n",
    "    RigidTransform,\n",
    "    RollPitchYaw,\n",
    "    StartMeshcat,\n",
    ")\n",
    "\n",
    "from manipulation import ConfigureParser, running_as_notebook\n",
    "from manipulation.scenarios import AddMultibodyTriad"
   ]
  },
  {
   "cell_type": "code",
   "execution_count": 9,
   "metadata": {},
   "outputs": [
    {
     "name": "stderr",
     "output_type": "stream",
     "text": [
      "INFO:drake:PackageMap: Downloading https://github.com/RobotLocomotion/models/archive/fe5326c5ffc36fda12c58883d22d29dc86009d65.tar.gz\n",
      "sh: -c: line 0: syntax error near unexpected token `('\n",
      "sh: -c: line 0: `/usr/bin/python3 /Users/timkostolansky/Dropbox (MIT)/MIT Semesters/Fall23/6.4212/project/env/lib/python3.11/site-packages/pydrake/lib/../share/drake/multibody/parsing/package_downloader.py /private/var/tmp/.cache_timkostolansky/drake/package_map/.fetch_zmY3Ws /private/var/tmp/.cache_timkostolansky/drake/package_map/.error_OKpDIQ --disable-drake-valgrind-tracing'\n"
     ]
    },
    {
     "ename": "RuntimeError",
     "evalue": "PackageMap: when downloading 'drake_models', the downloader experienced an error: returncode == 512",
     "output_type": "error",
     "traceback": [
      "\u001b[0;31m---------------------------------------------------------------------------\u001b[0m",
      "\u001b[0;31mRuntimeError\u001b[0m                              Traceback (most recent call last)",
      "\u001b[1;32m/Users/timkostolansky/Dropbox (MIT)/MIT Semesters/Fall23/6.4212/project/src/iiwa_one_block.ipynb Cell 4\u001b[0m line \u001b[0;36m7\n\u001b[1;32m     <a href='vscode-notebook-cell:/Users/timkostolansky/Dropbox%20%28MIT%29/MIT%20Semesters/Fall23/6.4212/project/src/iiwa_one_block.ipynb#W5sZmlsZQ%3D%3D?line=68'>69</a>\u001b[0m     sliders\u001b[39m.\u001b[39mRun(diagram, default_interactive_timeout)\n\u001b[1;32m     <a href='vscode-notebook-cell:/Users/timkostolansky/Dropbox%20%28MIT%29/MIT%20Semesters/Fall23/6.4212/project/src/iiwa_one_block.ipynb#W5sZmlsZQ%3D%3D?line=69'>70</a>\u001b[0m     meshcat\u001b[39m.\u001b[39mDeleteAddedControls()\n\u001b[0;32m---> <a href='vscode-notebook-cell:/Users/timkostolansky/Dropbox%20%28MIT%29/MIT%20Semesters/Fall23/6.4212/project/src/iiwa_one_block.ipynb#W5sZmlsZQ%3D%3D?line=72'>73</a>\u001b[0m gripper_forward_kinematics_example()\n",
      "\u001b[1;32m/Users/timkostolansky/Dropbox (MIT)/MIT Semesters/Fall23/6.4212/project/src/iiwa_one_block.ipynb Cell 4\u001b[0m line \u001b[0;36m3\n\u001b[1;32m     <a href='vscode-notebook-cell:/Users/timkostolansky/Dropbox%20%28MIT%29/MIT%20Semesters/Fall23/6.4212/project/src/iiwa_one_block.ipynb#W5sZmlsZQ%3D%3D?line=33'>34</a>\u001b[0m parser \u001b[39m=\u001b[39m Parser(plant)\n\u001b[1;32m     <a href='vscode-notebook-cell:/Users/timkostolansky/Dropbox%20%28MIT%29/MIT%20Semesters/Fall23/6.4212/project/src/iiwa_one_block.ipynb#W5sZmlsZQ%3D%3D?line=34'>35</a>\u001b[0m ConfigureParser(parser)\n\u001b[0;32m---> <a href='vscode-notebook-cell:/Users/timkostolansky/Dropbox%20%28MIT%29/MIT%20Semesters/Fall23/6.4212/project/src/iiwa_one_block.ipynb#W5sZmlsZQ%3D%3D?line=35'>36</a>\u001b[0m parser\u001b[39m.\u001b[39;49mAddModelsFromUrl(\u001b[39m\"\u001b[39;49m\u001b[39mpackage://manipulation/iiwa_and_wsg.dmd.yaml\u001b[39;49m\u001b[39m\"\u001b[39;49m)\n\u001b[1;32m     <a href='vscode-notebook-cell:/Users/timkostolansky/Dropbox%20%28MIT%29/MIT%20Semesters/Fall23/6.4212/project/src/iiwa_one_block.ipynb#W5sZmlsZQ%3D%3D?line=36'>37</a>\u001b[0m plant\u001b[39m.\u001b[39mFinalize()\n\u001b[1;32m     <a href='vscode-notebook-cell:/Users/timkostolansky/Dropbox%20%28MIT%29/MIT%20Semesters/Fall23/6.4212/project/src/iiwa_one_block.ipynb#W5sZmlsZQ%3D%3D?line=38'>39</a>\u001b[0m \u001b[39m# Draw the frames\u001b[39;00m\n",
      "\u001b[0;31mRuntimeError\u001b[0m: PackageMap: when downloading 'drake_models', the downloader experienced an error: returncode == 512"
     ]
    }
   ],
   "source": [
    "class PrintPose(LeafSystem):\n",
    "    def __init__(self, body_index):\n",
    "        LeafSystem.__init__(self)\n",
    "        self._body_index = body_index\n",
    "        self.DeclareAbstractInputPort(\n",
    "            \"body_poses\", AbstractValue.Make([RigidTransform()])\n",
    "        )\n",
    "        self.DeclareForcedPublishEvent(self.Publish)\n",
    "\n",
    "    def Publish(self, context):\n",
    "        pose = self.get_input_port().Eval(context)[self._body_index]\n",
    "        print(pose)\n",
    "        print(\n",
    "            \"gripper position (m): \"\n",
    "            + np.array2string(\n",
    "                pose.translation(),\n",
    "                formatter={\"float\": lambda x: \"{:3.2f}\".format(x)},\n",
    "            )\n",
    "        )\n",
    "        print(\n",
    "            \"gripper roll-pitch-yaw (rad):\"\n",
    "            + np.array2string(\n",
    "                RollPitchYaw(pose.rotation()).vector(),\n",
    "                formatter={\"float\": lambda x: \"{:3.2f}\".format(x)},\n",
    "            )\n",
    "        )\n",
    "        clear_output(wait=True)\n",
    "\n",
    "\n",
    "def gripper_forward_kinematics_example():\n",
    "    builder = DiagramBuilder()\n",
    "\n",
    "    plant, scene_graph = AddMultibodyPlantSceneGraph(builder, time_step=0)\n",
    "    parser = Parser(plant)\n",
    "    ConfigureParser(parser)\n",
    "    parser.AddModelsFromUrl(\"package://manipulation/iiwa_and_wsg.dmd.yaml\")\n",
    "    plant.Finalize()\n",
    "\n",
    "    # Draw the frames\n",
    "    for body_name in [\n",
    "        \"iiwa_link_1\",\n",
    "        \"iiwa_link_2\",\n",
    "        \"iiwa_link_3\",\n",
    "        \"iiwa_link_4\",\n",
    "        \"iiwa_link_5\",\n",
    "        \"iiwa_link_6\",\n",
    "        \"iiwa_link_7\",\n",
    "        \"body\",\n",
    "    ]:\n",
    "        pass\n",
    "        # AddMultibodyTriad(plant.GetFrameByName(body_name), scene_graph)\n",
    "\n",
    "    meshcat.Delete()\n",
    "    meshcat.DeleteAddedControls()\n",
    "    visualizer = MeshcatVisualizer.AddToBuilder(\n",
    "        builder, scene_graph.get_query_output_port(), meshcat\n",
    "    )\n",
    "\n",
    "    wsg = plant.GetModelInstanceByName(\"wsg\")\n",
    "    gripper = plant.GetBodyByName(\"body\", wsg)\n",
    "    print_pose = builder.AddSystem(PrintPose(gripper.index()))\n",
    "    builder.Connect(\n",
    "        plant.get_body_poses_output_port(), print_pose.get_input_port()\n",
    "    )\n",
    "\n",
    "    default_interactive_timeout = None if running_as_notebook else 1.0\n",
    "    sliders = builder.AddSystem(JointSliders(meshcat, plant))\n",
    "    diagram = builder.Build()\n",
    "    sliders.Run(diagram, default_interactive_timeout)\n",
    "    meshcat.DeleteAddedControls()\n",
    "\n",
    "\n",
    "gripper_forward_kinematics_example()"
   ]
  },
  {
   "cell_type": "code",
   "execution_count": null,
   "metadata": {},
   "outputs": [],
   "source": []
  }
 ],
 "metadata": {
  "kernelspec": {
   "display_name": "env",
   "language": "python",
   "name": "python3"
  },
  "language_info": {
   "codemirror_mode": {
    "name": "ipython",
    "version": 3
   },
   "file_extension": ".py",
   "mimetype": "text/x-python",
   "name": "python",
   "nbconvert_exporter": "python",
   "pygments_lexer": "ipython3",
   "version": "3.11.5"
  }
 },
 "nbformat": 4,
 "nbformat_minor": 2
}
